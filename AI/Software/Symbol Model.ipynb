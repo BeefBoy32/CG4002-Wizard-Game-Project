{
 "cells": [
  {
   "cell_type": "markdown",
   "id": "28c70bd4-076e-413b-ae9c-5efc0def43a1",
   "metadata": {},
   "source": [
    "# Install & Import Libraries\n"
   ]
  },
  {
   "cell_type": "code",
   "execution_count": 68,
   "id": "a467f5d5-586b-4e24-bdf7-05feaca436f2",
   "metadata": {},
   "outputs": [],
   "source": [
    "#!pip install tensorflow numpy matplotlib scikit-learn scipy paho-mqtt\n",
    "import os\n",
    "import numpy as np\n",
    "from collections import deque\n",
    "import time\n",
    "import tensorflow as tf\n",
    "from tensorflow.keras.models import Sequential\n",
    "from tensorflow.keras.layers import Conv1D, MaxPooling1D, Dense, Dropout, BatchNormalization, GlobalAveragePooling1D\n",
    "from tensorflow.keras.optimizers import Adam\n",
    "from sklearn.preprocessing import StandardScaler\n",
    "from scipy.signal import butter, lfilter\n",
    "import paho.mqtt.client as mqtt\n",
    "import json\n",
    "from paho.mqtt.client import CallbackAPIVersion"
   ]
  },
  {
   "cell_type": "markdown",
   "id": "167fd061-4f94-403c-8007-7ad9ec95d71a",
   "metadata": {},
   "source": [
    "# Define Classes "
   ]
  },
  {
   "cell_type": "code",
   "execution_count": 70,
   "id": "c795b80d-3c68-42fb-b86e-ee0253adb18c",
   "metadata": {},
   "outputs": [],
   "source": [
    "sampling_rate = 20\n",
    "window_size = 3 * sampling_rate  # 3s\n",
    "num_channels = 6\n",
    "wand_classes = [\"Wave\", \"Circle\", \"Square\", \"Triangle\", \"Infinity\", \"Zigzag\", \"None\"]\n",
    "CONFIDENCE_THRESHOLD = 0.7 # Adjust as needed."
   ]
  },
  {
   "cell_type": "markdown",
   "id": "4a78c00e-8f33-4460-b540-257ebbf13f93",
   "metadata": {},
   "source": [
    "# Processing Functions\n"
   ]
  },
  {
   "cell_type": "code",
   "execution_count": 72,
   "id": "dde0b734-cb6e-447a-95e4-b3d8482917a2",
   "metadata": {},
   "outputs": [],
   "source": [
    "def butter_lowpass(cutoff, fs, order=4):\n",
    "    nyq = 0.5 * fs\n",
    "    normal_cutoff = cutoff / nyq\n",
    "    b, a = butter(order, normal_cutoff, btype='low', analog=False)\n",
    "    return b, a\n",
    "\n",
    "def lowpass_filter(data, cutoff=5, fs=50, order=4):\n",
    "    b, a = butter_lowpass(cutoff, fs, order=order)\n",
    "    return lfilter(b, a, data)\n",
    "\n",
    "def normalize_window(window):\n",
    "    if window.size == 0:\n",
    "        return window\n",
    "    return (window - np.mean(window, axis=0)) / (np.std(window, axis=0) + 1e-8)"
   ]
  },
  {
   "cell_type": "markdown",
   "id": "b78928ce-558b-49d0-b26a-d6b9dfdb0a33",
   "metadata": {},
   "source": [
    "# CNN Model\n"
   ]
  },
  {
   "cell_type": "code",
   "execution_count": 74,
   "id": "9af88061-6eda-4daa-b3ad-ef842cd4ef1c",
   "metadata": {},
   "outputs": [],
   "source": [
    "model = Sequential([\n",
    "    tf.keras.Input(shape=(window_size, num_channels)),\n",
    "    Conv1D(64, 5, activation='relu'),\n",
    "    BatchNormalization(),\n",
    "    MaxPooling1D(2),\n",
    "\n",
    "    Conv1D(128, 5, activation='relu'),\n",
    "    BatchNormalization(),\n",
    "    MaxPooling1D(2),\n",
    "\n",
    "    Conv1D(256, 3, activation='relu'),\n",
    "    BatchNormalization(),\n",
    "    MaxPooling1D(2),\n",
    "\n",
    "    Dropout(0.4),\n",
    "    GlobalAveragePooling1D(),   \n",
    "    Dense(128, activation='relu'),\n",
    "    Dropout(0.3),\n",
    "    Dense(len(wand_classes), activation='softmax')\n",
    "])\n",
    "\n",
    "model.compile(optimizer=Adam(learning_rate=0.001),\n",
    "              loss='categorical_crossentropy',\n",
    "              metrics=['accuracy'])\n",
    "\n",
    "# Load fine-tuned weights\n",
    "model.load_weights(\"cnn_finetuned_wand.keras\")"
   ]
  },
  {
   "cell_type": "markdown",
   "id": "0e200d6c-086d-46f6-b396-980f9e436886",
   "metadata": {},
   "source": [
    "# Classification Function"
   ]
  },
  {
   "cell_type": "code",
   "execution_count": 76,
   "id": "3626061d-61a1-48f9-9390-46d3ae7a6efd",
   "metadata": {},
   "outputs": [],
   "source": [
    "buffer = deque(maxlen=window_size)\n",
    "\n",
    "def process_realtime_data(new_sample):\n",
    "    buffer.append(new_sample)\n",
    "    if len(buffer) == window_size:\n",
    "        window = np.array(buffer)\n",
    "        return classify_window(window)\n",
    "    return None, None\n",
    "\n",
    "def classify_window(window):\n",
    "    # Low-pass filter per channel\n",
    "    for ch in range(num_channels):\n",
    "        window[:, ch] = lowpass_filter(window[:, ch], cutoff=5, fs=sampling_rate)\n",
    "    window = normalize_window(window)\n",
    "    window = np.expand_dims(window, axis=0)\n",
    "    \n",
    "    probs = model.predict(window, verbose=0)\n",
    "    predicted_idx = np.argmax(probs, axis=1)[0]\n",
    "    confidence = np.max(probs)\n",
    "    \n",
    "    if confidence < CONFIDENCE_THRESHOLD:\n",
    "        return \"None\", confidence\n",
    "    return wand_classes[predicted_idx], confidence"
   ]
  },
  {
   "cell_type": "markdown",
   "id": "972fa4f2-7fb4-4b62-94d6-8b7f7bf128a7",
   "metadata": {},
   "source": [
    "# Generate test data"
   ]
  },
  {
   "cell_type": "code",
   "execution_count": 78,
   "id": "b06eecc0-acd3-478e-8bbd-10becd6143e2",
   "metadata": {},
   "outputs": [],
   "source": [
    "# Parameters\n",
    "sampling_rate = 20\n",
    "window_size = 3 * sampling_rate  # 60 timesteps\n",
    "num_channels = 6\n",
    "wand_classes = [\"Wave\", \"Circle\", \"Square\", \"Triangle\", \"Infinity\", \"Zigzag\", \"None\"]\n",
    "num_classes = len(wand_classes)\n",
    "num_samples = 5   # how many test vectors to export\n",
    "\n",
    "# Example: generate random test windows (replace with real dataset)\n",
    "x_test = np.random.randn(num_samples, window_size, num_channels).astype(np.float32)\n",
    "y_pred = model.predict(x_test, verbose=0)   # shape (num_samples, num_classes)\n",
    "\n",
    "# Quantize to Q8.8\n",
    "def quantize_q8_8(x):\n",
    "    return np.round(x * 256).astype(np.int16)\n",
    "\n",
    "x_q = quantize_q8_8(x_test)       # (N, 60, 6)\n",
    "y_q = quantize_q8_8(y_pred)       # (N, 7)\n",
    "\n",
    "# Write to header\n",
    "with open(\"test_data.h\", \"w\") as f:\n",
    "    f.write(\"/* Auto-generated test dataset from Keras CNN */\\n\")\n",
    "    f.write(\"#ifndef TEST_DATA_H\\n#define TEST_DATA_H\\n\\n\")\n",
    "    f.write(\"#include <cstdint>\\n\\n\")\n",
    "\n",
    "    f.write(f\"#define NUM_SAMPLES {num_samples}\\n\")\n",
    "    f.write(f\"#define INPUT_LEN {window_size}\\n\")\n",
    "    f.write(f\"#define INPUT_CH {num_channels}\\n\")\n",
    "    f.write(f\"#define NUM_CLASSES {num_classes}\\n\\n\")\n",
    "\n",
    "    # Input array\n",
    "    f.write(f\"const int16_t test_inputs[NUM_SAMPLES][INPUT_LEN][INPUT_CH] = {{\\n\")\n",
    "    for n in range(num_samples):\n",
    "        f.write(\"  {\\n\")\n",
    "        for t in range(window_size):\n",
    "            row = \", \".join(map(str, x_q[n, t]))\n",
    "            f.write(f\"    {{{row}}},\\n\")\n",
    "        f.write(\"  },\\n\")\n",
    "    f.write(\"};\\n\\n\")\n",
    "\n",
    "    # Output array\n",
    "    f.write(f\"const int16_t test_outputs[NUM_SAMPLES][NUM_CLASSES] = {{\\n\")\n",
    "    for n in range(num_samples):\n",
    "        row = \", \".join(map(str, y_q[n]))\n",
    "        f.write(f\"  {{{row}}},\\n\")\n",
    "    f.write(\"};\\n\\n\")\n",
    "\n",
    "    f.write(\"#endif // TEST_DATA_H\\n\")\n"
   ]
  },
  {
   "cell_type": "markdown",
   "id": "1c75076b-1d53-4312-9c22-faf7399f87dc",
   "metadata": {},
   "source": [
    "# Extract Weights, Biases, Activations"
   ]
  },
  {
   "cell_type": "code",
   "execution_count": 80,
   "id": "e165f800-bbe0-420b-ba78-4e7d97007201",
   "metadata": {},
   "outputs": [],
   "source": [
    "# Quantization helper (Q8.8 fixed-point)\n",
    "def quantize_q8_8(x):\n",
    "    return np.round(x * 256).astype(np.int16)  # signed 16-bit\n",
    "\n",
    "with open(\"cnn_weights.h\", \"w\") as f:\n",
    "    f.write(\"// Auto-generated CNN weights (Q8.8 fixed point)\\n\\n\")\n",
    "    for layer in model.layers:\n",
    "        weights = layer.get_weights()\n",
    "        if not weights:\n",
    "            continue  # skip non-param layers (e.g., Pooling)\n",
    "        \n",
    "        for i, w in enumerate(weights):\n",
    "            q = quantize_q8_8(w)\n",
    "            flat = q.flatten()\n",
    "            name = f\"{layer.name}_param{i}\"\n",
    "            f.write(f\"const short {name}[{len(flat)}] = {{\\n\")\n",
    "            f.write(\", \".join(map(str, flat)))\n",
    "            f.write(\"\\n};\\n\\n\")\n"
   ]
  },
  {
   "cell_type": "markdown",
   "id": "300970d0-3940-472f-bda6-037ce1cdab1f",
   "metadata": {},
   "source": [
    "# MQTT"
   ]
  },
  {
   "cell_type": "code",
   "execution_count": null,
   "id": "ebc02301-57a1-4891-941c-28c9b7e7518b",
   "metadata": {},
   "outputs": [],
   "source": [
    "buffer = []\n",
    "\n",
    "def on_connect(client, userdata, flags, rc):\n",
    "    if rc == 0:\n",
    "        print(\"Connected to broker\")\n",
    "        client.subscribe(\"wand/mpu\")\n",
    "    else:\n",
    "        print(f\"Failed to connect, rc={rc}\")\n",
    "\n",
    "\n",
    "def on_message(client, userdata, msg):\n",
    "    try:\n",
    "        payload = json.loads(msg.payload.decode())\n",
    "        # extract your 6 channels\n",
    "        sample = [\n",
    "            payload[\"accelx\"],\n",
    "            payload[\"accely\"],\n",
    "            payload[\"accelz\"],\n",
    "            payload.get(\"gyrox\", 0.0),  # adjust keys to your ESP32 payload\n",
    "            payload.get(\"gyroy\", 0.0),\n",
    "            payload.get(\"gyroz\", 0.0)\n",
    "        ]\n",
    "        if len(sample) != num_channels:\n",
    "            print(\"⚠️ Incorrect sample length:\", sample)\n",
    "            return\n",
    "\n",
    "        buffer.append(sample)\n",
    "\n",
    "        if len(buffer) == window_size:\n",
    "            window = np.array(buffer)  # now shape (window_size, 6)\n",
    "            symbol, confidence = classify_window(window)\n",
    "            print(f\"Detected: {symbol}, Confidence: {confidence:.2f}\")\n",
    "            buffer.clear()  # start next window\n",
    "\n",
    "    except Exception as e:\n",
    "        print(\"⚠️ Failed to process message:\", e)"
   ]
  },
  {
   "cell_type": "markdown",
   "id": "0d8843c0-5fd8-47ce-9ba9-50ebfcd4d5ac",
   "metadata": {},
   "source": [
    "# Real-time Inference"
   ]
  },
  {
   "cell_type": "code",
   "execution_count": null,
   "id": "386e1ab4-1447-4a42-890c-7c392ea71c87",
   "metadata": {},
   "outputs": [],
   "source": [
    "# run mosquitto first\n",
    "client = mqtt.Client(client_id=\"LaptopInference\")\n",
    "client.on_connect = on_connect\n",
    "client.on_message = on_message\n",
    "\n",
    "broker_address = \"192.168.68.56\" \n",
    "client.connect(broker_address, 1883, 60)\n",
    "\n",
    "print(\"📡 Waiting for IMU data...\")\n",
    "client.loop_start()  # run in background\n",
    "\n",
    "# Keep notebook alive while processing MQTT messages\n",
    "try:\n",
    "    while True:\n",
    "        time.sleep(1)\n",
    "except KeyboardInterrupt:\n",
    "    print(\"Stopping...\")\n",
    "    client.loop_stop()\n",
    "    client.disconnect()"
   ]
  }
 ],
 "metadata": {
  "kernelspec": {
   "display_name": "Python [conda env:base] *",
   "language": "python",
   "name": "conda-base-py"
  },
  "language_info": {
   "codemirror_mode": {
    "name": "ipython",
    "version": 3
   },
   "file_extension": ".py",
   "mimetype": "text/x-python",
   "name": "python",
   "nbconvert_exporter": "python",
   "pygments_lexer": "ipython3",
   "version": "3.12.7"
  }
 },
 "nbformat": 4,
 "nbformat_minor": 5
}
